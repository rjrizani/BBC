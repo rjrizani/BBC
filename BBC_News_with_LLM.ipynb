{
  "nbformat": 4,
  "nbformat_minor": 0,
  "metadata": {
    "colab": {
      "provenance": [],
      "authorship_tag": "ABX9TyMcdwtULfv3o9rbtBdPSYol",
      "include_colab_link": true
    },
    "kernelspec": {
      "name": "python3",
      "display_name": "Python 3"
    },
    "language_info": {
      "name": "python"
    }
  },
  "cells": [
    {
      "cell_type": "markdown",
      "metadata": {
        "id": "view-in-github",
        "colab_type": "text"
      },
      "source": [
        "<a href=\"https://colab.research.google.com/github/rjrizani/BBC/blob/main/BBC_News_with_LLM.ipynb\" target=\"_parent\"><img src=\"https://colab.research.google.com/assets/colab-badge.svg\" alt=\"Open In Colab\"/></a>"
      ]
    },
    {
      "cell_type": "code",
      "source": [
        "\n",
        "#@title Install dependencies\n",
        "!pip install -qqq zyte-api==0.7.0 nest-asyncio"
      ],
      "metadata": {
        "colab": {
          "base_uri": "https://localhost:8080/"
        },
        "cellView": "form",
        "id": "NwsktMnI7ahw",
        "outputId": "36b0ebf7-83f5-4963-e515-10025224b7b3"
      },
      "execution_count": 1,
      "outputs": [
        {
          "output_type": "stream",
          "name": "stdout",
          "text": [
            "\u001b[?25l     \u001b[90m━━━━━━━━━━━━━━━━━━━━━━━━━━━━━━━━━━━━━━━━\u001b[0m \u001b[32m0.0/101.4 kB\u001b[0m \u001b[31m?\u001b[0m eta \u001b[36m-:--:--\u001b[0m\r\u001b[2K     \u001b[91m━━━━━━━━━━━━━━━━━━━━━━━━━━━━━━━━━━━━\u001b[0m\u001b[90m╺\u001b[0m\u001b[90m━━━\u001b[0m \u001b[32m92.2/101.4 kB\u001b[0m \u001b[31m3.7 MB/s\u001b[0m eta \u001b[36m0:00:01\u001b[0m\r\u001b[2K     \u001b[90m━━━━━━━━━━━━━━━━━━━━━━━━━━━━━━━━━━━━━━━\u001b[0m \u001b[32m101.4/101.4 kB\u001b[0m \u001b[31m1.7 MB/s\u001b[0m eta \u001b[36m0:00:00\u001b[0m\n",
            "\u001b[?25h  Preparing metadata (setup.py) ... \u001b[?25l\u001b[?25hdone\n",
            "\u001b[2K   \u001b[90m━━━━━━━━━━━━━━━━━━━━━━━━━━━━━━━━━━━━━━━━\u001b[0m \u001b[32m2.9/2.9 MB\u001b[0m \u001b[31m32.4 MB/s\u001b[0m eta \u001b[36m0:00:00\u001b[0m\n",
            "\u001b[?25h  Building wheel for runstats (setup.py) ... \u001b[?25l\u001b[?25hdone\n"
          ]
        }
      ]
    },
    {
      "cell_type": "code",
      "source": [
        "\n",
        "# Imports\n",
        "from google.colab import userdata\n",
        "import nest_asyncio\n",
        "from zyte_api import AsyncZyteAPI\n",
        "\n",
        "# This is to work with async within a notebook\n",
        "nest_asyncio.apply()\n",
        "\n",
        "# Create the Zyte API Client\n",
        "ZYTE_API_KEY = userdata.get('ZYTE_API_KEY')\n",
        "print(ZYTE_API_KEY)\n",
        "client = AsyncZyteAPI(api_key=ZYTE_API_KEY)\n",
        "\n",
        "\n"
      ],
      "metadata": {
        "colab": {
          "base_uri": "https://localhost:8080/"
        },
        "id": "svww5Vcz7itq",
        "outputId": "6ed0ec5c-faa7-450b-b0fd-37ab2027e786"
      },
      "execution_count": 2,
      "outputs": [
        {
          "output_type": "stream",
          "name": "stdout",
          "text": [
            "082e25fb89434d96b518b211894de5e9\n"
          ]
        }
      ]
    },
    {
      "cell_type": "code",
      "execution_count": 25,
      "metadata": {
        "id": "ksKWxhF47NhT"
      },
      "outputs": [],
      "source": [
        "\n",
        "url = \"https://www.bbc.com/future/article/20250424-the-body-wrapped-in-plastic-the-image-that-defined-covid-19\"\n",
        "\n",
        "response = await client.get(\n",
        "    {\n",
        "        \"url\": url,\n",
        "        \"browserHtml\": True,\n",
        "        \"article\": True,\n",
        "        \"articleOptions\": {\n",
        "            \"extractFrom\": \"browserHtml\",\n",
        "        },\n",
        "        \"customAttributes\": {\n",
        "            \"articleBody\": {\n",
        "                \"type\": \"string\",\n",
        "                \"description\": \"the body of the article containing the article text. Include as few non-article-body elements as possible, but don't miss any of the article's text\",\n",
        "                \"format\": \"html\"  # This is how we specify \"extract internally as a reference to the html and don't generate the whole output\"\n",
        "            },\n",
        "            \"fullPageHtml\": {\n",
        "                \"type\": \"string\",\n",
        "                \"description\": \"The full HTML content of the page\",\n",
        "                \"format\": \"html\"\n",
        "            },\n",
        "            \"images_url\": {\n",
        "                \"type\": \"array\",\n",
        "                \"description\": \"the links to all the images in the article\",\n",
        "                \"items\": {\n",
        "                    \"type\": \"string\",\n",
        "                    \"description\": \"the links to all the images in the article\",\n",
        "                    \"format\": \"uri\"\n",
        "            }},\n",
        "            \"authorInfo\": {\n",
        "                \"type\": \"string\",\n",
        "                \"description\": \"all the info of the author that wrote the article\",\n",
        "                \"format\": \"html-text\"  # We can also indicate to extract only a reference, but to return the text of the html instead of the html\n",
        "            },\n",
        "            \"relatedArticles\": {\n",
        "                \"type\": \"array\",\n",
        "                \"description\": \"the links to related/other articles in the page\",\n",
        "                \"items\": {\n",
        "                    \"type\": \"string\",\n",
        "                    \"description\": \"the links to related/other articles in the page\",\n",
        "                    \"format\": \"uri\"  # We can also indicate to extract references to HTML attributes that contain links\n",
        "                }\n",
        "            },\n",
        "            \"summary\": {\n",
        "              \"type\": \"string\",\n",
        "              \"description\": \"A two sentence article summary\"\n",
        "            },\n",
        "            \"article_sentiment\": {\n",
        "                \"type\": \"string\",\n",
        "                \"enum\": [\"positive\", \"negative\", \"neutral\"]\n",
        "              }\n",
        "\n",
        "        }\n",
        "    }\n",
        ")"
      ]
    },
    {
      "cell_type": "code",
      "source": [
        "response['customAttributes']['metadata']"
      ],
      "metadata": {
        "colab": {
          "base_uri": "https://localhost:8080/"
        },
        "id": "2rITu31k785n",
        "outputId": "8aceab24-1070-4287-d5bd-604e8680105b"
      },
      "execution_count": 21,
      "outputs": [
        {
          "output_type": "execute_result",
          "data": {
            "text/plain": [
              "{'inputTokens': 3434,\n",
              " 'outputTokens': 273,\n",
              " 'textInputTokens': 2946,\n",
              " 'maxInputTokens': 19154,\n",
              " 'excludedPIIAttributes': []}"
            ]
          },
          "metadata": {},
          "execution_count": 21
        }
      ]
    },
    {
      "cell_type": "code",
      "source": [
        "\n",
        "print(response['customAttributes']['values']['authorInfo'])"
      ],
      "metadata": {
        "colab": {
          "base_uri": "https://localhost:8080/"
        },
        "id": "ize1DoRV8MpM",
        "outputId": "ff450d03-6e95-41f3-d9db-b085657213e5"
      },
      "execution_count": 7,
      "outputs": [
        {
          "output_type": "stream",
          "name": "stdout",
          "text": [
            "Stephen Dowling\n"
          ]
        }
      ]
    },
    {
      "cell_type": "code",
      "source": [
        "for related_article_url in response['customAttributes']['values']['relatedArticles']:\n",
        "  print(related_article_url)\n",
        ""
      ],
      "metadata": {
        "colab": {
          "base_uri": "https://localhost:8080/"
        },
        "id": "MTeak1i08WB7",
        "outputId": "ceb5231d-cd09-4acb-a650-67ca86b216e4"
      },
      "execution_count": 8,
      "outputs": [
        {
          "output_type": "stream",
          "name": "stdout",
          "text": [
            "https://www.bbc.com/future/article/20250304-the-countries-that-never-locked-down-for-covid-19\n",
            "https://www.bbc.co.uk/future/article/20250227-covid-19-when-empty-became-the-new-normal\n",
            "https://www.bbc.co.uk/future/article/20250129-january-2020-the-scanners-used-to-stop-covids-deadly-spread\n"
          ]
        }
      ]
    },
    {
      "cell_type": "code",
      "source": [
        "extracted_html = response['customAttributes']['values']['articleBody']\n",
        "\n",
        "len(extracted_html)"
      ],
      "metadata": {
        "colab": {
          "base_uri": "https://localhost:8080/"
        },
        "id": "BZXWqb1C8Z02",
        "outputId": "14ad9d3a-02dc-4ed6-a9f7-94a10e65a275"
      },
      "execution_count": 22,
      "outputs": [
        {
          "output_type": "execute_result",
          "data": {
            "text/plain": [
              "330"
            ]
          },
          "metadata": {},
          "execution_count": 22
        }
      ]
    },
    {
      "cell_type": "code",
      "source": [
        "fullPageHtml = response['customAttributes']['values']['fullPageHtml']\n",
        "\n",
        "len(fullPageHtml)"
      ],
      "metadata": {
        "colab": {
          "base_uri": "https://localhost:8080/"
        },
        "id": "JcJKCe1xCi-s",
        "outputId": "c8b935f4-1998-4dd7-c7cc-65e4dc4aaebf"
      },
      "execution_count": 26,
      "outputs": [
        {
          "output_type": "execute_result",
          "data": {
            "text/plain": [
              "25152"
            ]
          },
          "metadata": {},
          "execution_count": 26
        }
      ]
    },
    {
      "cell_type": "code",
      "source": [
        "print(response['customAttributes']['values']['summary'])"
      ],
      "metadata": {
        "colab": {
          "base_uri": "https://localhost:8080/"
        },
        "id": "yHACCKGb_MAC",
        "outputId": "6cd0e376-9c8f-45a2-bd57-815f2cbe949e"
      },
      "execution_count": 13,
      "outputs": [
        {
          "output_type": "stream",
          "name": "stdout",
          "text": [
            "An Indonesian photographer captured a defining image of loss due to Covid-19, showing a body wrapped in plastic on a hospital bed. The image was taken in a Jakarta hospital and has been recognized internationally for its powerful representation of the pandemic's toll.\n"
          ]
        }
      ]
    },
    {
      "cell_type": "code",
      "source": [
        "print(response['customAttributes']['values']['images_url'])"
      ],
      "metadata": {
        "colab": {
          "base_uri": "https://localhost:8080/"
        },
        "id": "VR0QwkQ0_zUy",
        "outputId": "099307f6-4e98-4b0e-b2dc-04dcad102f8a"
      },
      "execution_count": 17,
      "outputs": [
        {
          "output_type": "stream",
          "name": "stdout",
          "text": [
            "['https://ichef.bbci.co.uk/images/ic/480xn/p0l69yw1.jpg.webp', 'https://ichef.bbci.co.uk/images/ic/480xn/p0l69z74.jpg.webp', 'https://ichef.bbci.co.uk/images/ic/480xn/p0l69zg5.jpg.webp']\n"
          ]
        }
      ]
    },
    {
      "cell_type": "code",
      "source": [
        "print(response['customAttributes']['values']['article_sentiment'])"
      ],
      "metadata": {
        "colab": {
          "base_uri": "https://localhost:8080/"
        },
        "id": "SemlopCgAyoM",
        "outputId": "085b0ed6-5035-492f-b2bb-d91f86566ae1"
      },
      "execution_count": 19,
      "outputs": [
        {
          "output_type": "stream",
          "name": "stdout",
          "text": [
            "negative\n"
          ]
        }
      ]
    },
    {
      "cell_type": "code",
      "source": [
        "import IPython\n",
        "IPython.display.HTML(fullPageHtml)"
      ],
      "metadata": {
        "colab": {
          "base_uri": "https://localhost:8080/",
          "height": 1000
        },
        "id": "4PMmHdle8ePN",
        "outputId": "8b23c828-1930-4387-f9c7-62a67f784faa"
      },
      "execution_count": 27,
      "outputs": [
        {
          "output_type": "execute_result",
          "data": {
            "text/plain": [
              "<IPython.core.display.HTML object>"
            ],
            "text/html": [
              "<article><div data-component=\"headline-block\" class=\"sc-3b6b161a-0 fDtfvH\"><h1 class=\"sc-737179d2-0 dAzQyd\">The body in the bed: How an Indonesian photographer captured a defining image of loss due to Covid-19</h1></div><div data-component=\"byline-block\" class=\"sc-3b6b161a-0 dEGcKf\"><div data-testid=\"byline-new\" class=\"sc-801dd632-0 eSlECZ\"><div class=\"sc-801dd632-1 eeJXtz\"><time datetime=\"2025-04-25T10:00:00.000Z\" class=\"sc-801dd632-2 IvNnh\">2 days ago</time><div class=\"sc-801dd632-3 gXqOYA\"><div data-testid=\"popoverWrapper\" id=\"popover-wrapper\" class=\"sc-e1993691-1 hIQXRl\"><div data-testid=\"popoverTrigger\" id=\"popover-trigger\"><button type=\"button\" data-testid=\"socialShareTriggerButton\" aria-label=\"Share\" class=\"sc-42d8a745-2 sc-42d8a745-5 sc-42d8a745-6 bHDbVj ffpPdD htCKMu\"><span data-testid=\"button-icon-wrapper\" class=\"sc-42d8a745-0 jNAQSQ\"><svg width=\"12\" height=\"14\" viewBox=\"0 0 12 14\" category=\"social\" icon=\"share\" aria-hidden=\"true\" class=\"sc-9c8c5e05-0 kHfxfq\"><path fill-rule=\"evenodd\" clip-rule=\"evenodd\" d=\"M9.51768 8.96851C8.95518 8.96851 8.44393 9.19851 8.07227 9.57018L4.19727 7.36685C4.24893 7.18768 4.2856 7.00185 4.2856 6.80685C4.2856 6.61102 4.24977 6.42518 4.19893 6.2456L8.06143 4.04935C8.43393 4.42602 8.94977 4.66102 9.51768 4.66102C10.661 4.66102 11.5852 3.73643 11.5852 2.60893C11.5852 1.46518 10.661 0.541016 9.51768 0.541016C8.38977 0.541016 7.4656 1.46518 7.4656 2.60893C7.4656 2.78727 7.49602 2.95768 7.53935 3.12352L3.70727 5.37643C3.33143 4.98477 2.80477 4.73935 2.2181 4.73935C1.09018 4.73935 0.166016 5.6631 0.166016 6.80685C0.166016 7.93476 1.09018 8.85851 2.2181 8.85851C2.8006 8.85851 3.32435 8.61726 3.69977 8.23268L7.54602 10.4943C7.49893 10.6681 7.4656 10.8473 7.4656 11.036C7.4656 12.1639 8.38977 13.0881 9.51768 13.0881C10.661 13.0881 11.5852 12.1639 11.5852 11.036C11.5852 9.89268 10.661 8.96851 9.51768 8.96851\"></path></svg></span><span data-testid=\"button-text\" aria-hidden=\"false\" class=\"sc-42d8a745-1 cwJkjb\">Share</span></button></div></div><div data-testid=\"popoverWrapper\" id=\"popover-wrapper\" class=\"sc-e1993691-1 hIQXRl\"><div data-testid=\"popoverTrigger\" id=\"popover-trigger\"><button type=\"button\" data-testid=\"saveButton\" aria-label=\"Save\" class=\"sc-42d8a745-2 sc-42d8a745-5 sc-42d8a745-6 bcpeIB fxnHdQ fYsCgf\"><span data-testid=\"button-icon-wrapper\" class=\"sc-42d8a745-0 jNAQSQ\"><svg width=\"32\" height=\"32\" viewBox=\"0 0 12 14\" category=\"account\" icon=\"saved-items-outlined\" aria-hidden=\"true\" class=\"sc-9c8c5e05-0 kHfxfq\"><path d=\"M5.99996 9.43351L9.46496 11.0741L9.46496 2.0125L2.53496 2.0125L2.53496 11.0741L5.99996 9.43351ZM0.959961 13.5625L0.959961 0.4375L11.04 0.4375L11.04 13.5625L5.99996 11.1761L0.959961 13.5625Z\" fill=\"currentColor\"></path></svg></span><span data-testid=\"button-text\" aria-hidden=\"false\" class=\"sc-42d8a745-1 cwJkjb\">Save</span></button></div></div></div></div><div data-testid=\"byline-new-contributors\" class=\"sc-801dd632-12 jSIeFi\"><div class=\"sc-801dd632-5 kRoBHa\"><div><span class=\"sc-801dd632-7 lasLGY\">Stephen Dowling</span><div class=\"sc-801dd632-8 hwLppI\"><span></span></div></div></div></div><div class=\"sc-801dd632-4 jdpfMh\"><div data-testid=\"popoverWrapper\" id=\"popover-wrapper\" class=\"sc-e1993691-1 hIQXRl\"><div data-testid=\"popoverTrigger\" id=\"popover-trigger\"><button type=\"button\" data-testid=\"socialShareTriggerButton\" aria-label=\"Share\" class=\"sc-42d8a745-2 sc-42d8a745-5 sc-42d8a745-6 bHDbVj ffpPdD htCKMu\"><span data-testid=\"button-icon-wrapper\" class=\"sc-42d8a745-0 jNAQSQ\"><svg width=\"12\" height=\"14\" viewBox=\"0 0 12 14\" category=\"social\" icon=\"share\" aria-hidden=\"true\" class=\"sc-9c8c5e05-0 kHfxfq\"><path fill-rule=\"evenodd\" clip-rule=\"evenodd\" d=\"M9.51768 8.96851C8.95518 8.96851 8.44393 9.19851 8.07227 9.57018L4.19727 7.36685C4.24893 7.18768 4.2856 7.00185 4.2856 6.80685C4.2856 6.61102 4.24977 6.42518 4.19893 6.2456L8.06143 4.04935C8.43393 4.42602 8.94977 4.66102 9.51768 4.66102C10.661 4.66102 11.5852 3.73643 11.5852 2.60893C11.5852 1.46518 10.661 0.541016 9.51768 0.541016C8.38977 0.541016 7.4656 1.46518 7.4656 2.60893C7.4656 2.78727 7.49602 2.95768 7.53935 3.12352L3.70727 5.37643C3.33143 4.98477 2.80477 4.73935 2.2181 4.73935C1.09018 4.73935 0.166016 5.6631 0.166016 6.80685C0.166016 7.93476 1.09018 8.85851 2.2181 8.85851C2.8006 8.85851 3.32435 8.61726 3.69977 8.23268L7.54602 10.4943C7.49893 10.6681 7.4656 10.8473 7.4656 11.036C7.4656 12.1639 8.38977 13.0881 9.51768 13.0881C10.661 13.0881 11.5852 12.1639 11.5852 11.036C11.5852 9.89268 10.661 8.96851 9.51768 8.96851\"></path></svg></span><span data-testid=\"button-text\" aria-hidden=\"false\" class=\"sc-42d8a745-1 cwJkjb\">Share</span></button></div></div><div data-testid=\"popoverWrapper\" id=\"popover-wrapper\" class=\"sc-e1993691-1 hIQXRl\"><div data-testid=\"popoverTrigger\" id=\"popover-trigger\"><button type=\"button\" data-testid=\"saveButton\" aria-label=\"Save\" class=\"sc-42d8a745-2 sc-42d8a745-5 sc-42d8a745-6 bcpeIB fxnHdQ fYsCgf\"><span data-testid=\"button-icon-wrapper\" class=\"sc-42d8a745-0 jNAQSQ\"><svg width=\"32\" height=\"32\" viewBox=\"0 0 12 14\" category=\"account\" icon=\"saved-items-outlined\" aria-hidden=\"true\" class=\"sc-9c8c5e05-0 kHfxfq\"><path d=\"M5.99996 9.43351L9.46496 11.0741L9.46496 2.0125L2.53496 2.0125L2.53496 11.0741L5.99996 9.43351ZM0.959961 13.5625L0.959961 0.4375L11.04 0.4375L11.04 13.5625L5.99996 11.1761L0.959961 13.5625Z\" fill=\"currentColor\"></path></svg></span><span data-testid=\"button-text\" aria-hidden=\"false\" class=\"sc-42d8a745-1 cwJkjb\">Save</span></button></div></div></div></div></div><figure><div data-component=\"image-block\" class=\"sc-3b6b161a-0 gyQxwn\"><div data-testid=\"hero-image\" class=\"sc-4abb68ca-1 eOgpjw\"><img sizes=\"(min-width: 1280px) 50vw, (min-width: 1008px) 66vw, 96vw\" srcset=\"https://ichef.bbci.co.uk/images/ic/160xn/p0l69yw1.jpg.webp 160w,https://ichef.bbci.co.uk/images/ic/240xn/p0l69yw1.jpg.webp 240w,https://ichef.bbci.co.uk/images/ic/320xn/p0l69yw1.jpg.webp 320w,https://ichef.bbci.co.uk/images/ic/480xn/p0l69yw1.jpg.webp 480w,https://ichef.bbci.co.uk/images/ic/640xn/p0l69yw1.jpg.webp 640w,https://ichef.bbci.co.uk/images/ic/800xn/p0l69yw1.jpg.webp 800w,https://ichef.bbci.co.uk/images/ic/1024xn/p0l69yw1.jpg.webp 1024w,https://ichef.bbci.co.uk/images/ic/1376xn/p0l69yw1.jpg.webp 1376w,https://ichef.bbci.co.uk/images/ic/1920xn/p0l69yw1.jpg.webp 1920w\" src=\"https://ichef.bbci.co.uk/images/ic/480xn/p0l69yw1.jpg.webp\" loading=\"eager\" alt=\"Joshua Irwandi The shape of a human body wrapped in plastic and other material lies on a hospital bed in a darkened room (Credit: Joshua Irwandi)\" class=\"sc-4abb68ca-0 ldLcJe\"><span class=\"sc-4abb68ca-2 kkAKIJ\">Joshua Irwandi</span></div></div><div data-component=\"caption-block\" class=\"sc-3b6b161a-0 jvncPH\"><figcaption class=\"sc-1b6a1475-0 feHvAW\">(Credit: Joshua Irwandi)</figcaption></div></figure><div data-component=\"text-block\" class=\"sc-3b6b161a-0 dEGcKf\"><p class=\"sc-9a00e533-0 hxuGS\"><b id=\"in-april-2020,-indonesian-photographer-joshua-irwandi-captured-one-of-the-most-chilling-and-poignant-images-of-covid-19's-toll.\" class=\"sc-d16436d-0 jpoiOL\">In April 2020, Indonesian photographer Joshua Irwandi captured one of the most chilling and poignant images of Covid-19's toll.</b></p></div><div data-component=\"text-block\" class=\"sc-3b6b161a-0 dEGcKf\"><p class=\"sc-9a00e533-0 hxuGS\">Covid-19 was first confirmed in Indonesia on 2 March 2020 – a dance instructor and her mother tested positive after coming into contact with someone with the virus.</p></div><div data-component=\"text-block\" class=\"sc-3b6b161a-0 dEGcKf\"><p class=\"sc-9a00e533-0 hxuGS\">Indonesia is a vast country made up of thousands of islands, but it took little more than a month for the disease to spread to every one of its 34 provinces, among them Java.</p></div><div data-component=\"text-block\" class=\"sc-3b6b161a-0 dEGcKf\"><p class=\"sc-9a00e533-0 hxuGS\">Java is the most heavily populated island in the world, home to more than <a target=\"_blank\" href=\"https://setkab.go.id/en/statistics-indonesia-releases-2020-census-results/\" class=\"sc-f9178328-0 bGFWdi\">151 million people</a>. As the pandemic spread, Java – and its densely packed capital Jakarta – became an epicentre of the disease's spread.</p></div><div data-component=\"text-block\" class=\"sc-3b6b161a-0 dEGcKf\"><p class=\"sc-9a00e533-0 hxuGS\">Indonesia's health workers battled this new disease with scant resources at first. One study estimated that by July 2021, <a target=\"_blank\" href=\"https://actamedicaphilippina.upm.edu.ph/index.php/acta/article/view/6739\" class=\"sc-f9178328-0 bGFWdi\">more than 1,500 Indonesia health workers had been killed by the disease</a>. Nurses in the densely populated country reported <a target=\"_blank\" href=\"https://oamjms.eu/index.php/mjms/article/view/6953\" class=\"sc-f9178328-0 bGFWdi\">shortages of personal protective equipment (PPE)</a> in the early stages of the pandemic as they dealt with the increasing caseload.</p></div><div data-testid=\"ad-unit\" data-component=\"ad-slot\" class=\"sc-cce5f0ff-0 Bitbe\"><div data-testid=\"dotcom-mid_1\" id=\"dotcom-mid_1\" class=\"dotcom-ad lazy\" data-ad-slot=\"{}\"></div></div><div data-component=\"text-block\" class=\"sc-3b6b161a-0 dEGcKf\"><p class=\"sc-9a00e533-0 hxuGS\">Indonesia, of course, was not facing this disease alone. As part of a series looking at the global response to the virus in April 2020, National Geographic commissioned Indonesian photographer <a target=\"_blank\" href=\"https://www.joshuairwandi.com/\" class=\"sc-f9178328-0 bGFWdi\">Joshua Irwandi</a> to cover his country's battle against Covid.</p></div><figure><div data-component=\"image-block\" class=\"sc-3b6b161a-0 hoQmHM\"><div data-testid=\"image\" class=\"sc-4abb68ca-1 eOgpjw\"><img sizes=\"(min-width: 1280px) 50vw, (min-width: 1008px) 66vw, 96vw\" srcset=\"https://ichef.bbci.co.uk/images/ic/160xn/p0l69z74.jpg.webp 160w,https://ichef.bbci.co.uk/images/ic/240xn/p0l69z74.jpg.webp 240w,https://ichef.bbci.co.uk/images/ic/320xn/p0l69z74.jpg.webp 320w,https://ichef.bbci.co.uk/images/ic/480xn/p0l69z74.jpg.webp 480w,https://ichef.bbci.co.uk/images/ic/640xn/p0l69z74.jpg.webp 640w,https://ichef.bbci.co.uk/images/ic/800xn/p0l69z74.jpg.webp 800w,https://ichef.bbci.co.uk/images/ic/1024xn/p0l69z74.jpg.webp 1024w,https://ichef.bbci.co.uk/images/ic/1376xn/p0l69z74.jpg.webp 1376w,https://ichef.bbci.co.uk/images/ic/1920xn/p0l69z74.jpg.webp 1920w\" src=\"https://ichef.bbci.co.uk/images/ic/480xn/p0l69z74.jpg.webp\" loading=\"lazy\" alt=\"Joshua Irwandi Jakarta is one of the most densely populated cities in the world and became the epicentre of Covid-19 in Asia as the delta variant took hold in 2021 (Credit: Joshua Irwandi)\" class=\"sc-4abb68ca-0 ldLcJe\"><span class=\"sc-4abb68ca-2 kkAKIJ\">Joshua Irwandi</span></div></div><div data-component=\"caption-block\" class=\"sc-3b6b161a-0 jvncPH\"><figcaption class=\"sc-1b6a1475-0 feHvAW\">Jakarta is one of the most densely populated cities in the world and became the epicentre of Covid-19 in Asia as the delta variant took hold in 2021 (Credit: Joshua Irwandi)</figcaption></div></figure><div data-component=\"text-block\" class=\"sc-3b6b161a-0 dEGcKf\"><p class=\"sc-9a00e533-0 hxuGS\">Clad in a protective suit like the health workers he was shadowing, Irwandi spent his days inside a Jakarta hospital, observing firsthand how health workers were trying to save lives.</p></div><div data-component=\"text-block\" class=\"sc-3b6b161a-0 dEGcKf\"><p class=\"sc-9a00e533-0 hxuGS\">They were not always successful. One victim – the patient's identity has never been revealed to the public – died in their hospital bed. Irwandi took a picture after the body had been wrapped in protective coverings to prevent infection. </p></div><div data-component=\"text-block\" class=\"sc-3b6b161a-0 dEGcKf\"><p class=\"sc-9a00e533-0 hxuGS\">\"This is the procedure that that was mandated by the Indonesian Ministry of Health,\" says Irwandi. \"How to, you know, dispose of the bodies, you have to wrap them. What happened that day was I was shadowing the doctors and nurses in the hospital, and I was informed that there was a patient who just passed away.\"</p></div><div data-testid=\"ad-unit\" data-component=\"ad-slot\" class=\"sc-cce5f0ff-0 Bitbe\"><div data-testid=\"dotcom-mid_2\" id=\"dotcom-mid_2\" class=\"dotcom-ad lazy\" data-ad-slot=\"{}\"></div></div><div data-component=\"text-block\" class=\"sc-3b6b161a-0 dEGcKf\"><p class=\"sc-9a00e533-0 hxuGS\">Irwandi first took pictures of the nurses, clad head-to-toe in protective gear, covering the body in whatever material they had to hand. \"First with infectious waste bags, actually, and after the body was sort of wrapped up they'd start wrapping with plastic wrap that you see in the supermarket,\" he says. \"I think it took a gruelling hour or so in the heat. They thought that if we turn off the air conditioner, then it might kill the virus. And you're operating under this hot mask.\"</p></div><div data-component=\"quote-block\" class=\"sc-3b6b161a-0 dEGcKf\"><div class=\"sc-2b8ea91d-0 bgzaEJ\"><div class=\"sc-2b8ea91d-1 jTuoPb\"><svg viewBox=\"0 0 32 32\" width=\"1em\" height=\"1em\" category=\"personalisation\" icon=\"quote\" class=\"sc-9c8c5e05-0 kHfxfq\"><path d=\"M9.83967 17.2131C9.205 17.2131 8.62967 17.3124 8.07567 17.5058C8.63767 13.3384 10.9143 10.0091 14.7517 6.88708H10.0903C6.281 10.2704 4.00033 14.6318 4.00033 20.0451C4.00033 24.4311 6.35567 26.9371 9.78967 26.9371C13.0223 26.9371 14.9023 24.5564 14.9023 21.9751C14.9023 19.2184 12.7217 17.2131 9.83967 17.2131Z\"></path><path d=\"M22.2957 17.2131C21.6611 17.2131 21.0864 17.3124 20.5317 17.5058C21.0931 13.3384 23.3704 10.0091 27.2077 6.88708H22.5464C18.7371 10.2704 16.4811 14.6318 16.4811 20.0451C16.4811 24.4311 18.8117 26.9371 22.2457 26.9371C25.4784 26.9371 27.3584 24.5564 27.3584 21.9751C27.3584 19.2184 25.1777 17.2131 22.2957 17.2131Z\"></path></svg></div><span class=\"sc-2b8ea91d-2 dYxeIv\">It reminds us that even in our industrialised, often antiseptic modern world, we remain vulnerable</span></div></div><div data-component=\"text-block\" class=\"sc-3b6b161a-0 dEGcKf\"><p class=\"sc-9a00e533-0 hxuGS\">Irwandi's calm but chilling photograph belies the frenzied activity that was taking place hospitals as Covid-19 struck. The plastic wrap catches the cold, hard glare from the ceiling lights, while the coverings underneath look like something that could have wrapped a body in a ceremonial funeral thousands of years ago.</p></div><div data-component=\"text-block\" class=\"sc-3b6b161a-0 dEGcKf\"><p class=\"sc-9a00e533-0 hxuGS\">This eerie figure lies in stark contrast to the modern-day setting: an anonymous hospital room, empty except for a bed and television set. With its sombre, painterly quality, it reminds us that even in our industrialised, often antiseptic modern world, we remain vulnerable. </p></div><div data-component=\"text-block\" class=\"sc-3b6b161a-0 dEGcKf\"><p class=\"sc-9a00e533-0 hxuGS\">\"The whole time I worked with my mentor here in Indonesia, Geert Van Castelren, who's a Dutch photographer. I was also showing him what kind of images I've been making, asking him 'where do you think this is going'. If you're talking about composition, the more that it resembles something from the classics, usually the stronger the impact of the photograph would make.\"</p></div><div data-testid=\"ad-unit\" data-component=\"ad-slot\" class=\"sc-cce5f0ff-0 Bitbe\"><div data-testid=\"dotcom-mid_3\" id=\"dotcom-mid_3\" class=\"dotcom-ad lazy\" data-ad-slot=\"{}\"></div></div><div data-component=\"text-block\" class=\"sc-3b6b161a-0 dEGcKf\"><p class=\"sc-9a00e533-0 hxuGS\">And make an impact Irwandi's photo did. \"A lot of people accused the image of a set-up,\" says Irwandi. \"There was a singer with two million followers who basically thought that this is a whole setup, and Covid is not that dangerous. People said that it's a mannequin inside.</p></div><div data-component=\"text-block\" class=\"sc-3b6b161a-0 dEGcKf\"><p class=\"sc-9a00e533-0 hxuGS\">\"You can imagine the sort of misinformation and disinformation at the time. I was given access for a very specific job. Obviously, it's very different to what the public might be seeing or feeling.\"</p></div><figure><div data-component=\"image-block\" class=\"sc-3b6b161a-0 hoQmHM\"><div data-testid=\"image\" class=\"sc-4abb68ca-1 eOgpjw\"><img src=\"https://static.files.bbci.co.uk/bbcdotcom/web/20250409-091508-0ef9b7676-web-2.19.1-12/grey-placeholder.png\" class=\"sc-4abb68ca-0 itgEAh hide-when-no-script\"><img sizes=\"(min-width: 1280px) 50vw, (min-width: 1008px) 66vw, 96vw\" srcset=\"https://ichef.bbci.co.uk/images/ic/160xn/p0l69zg5.jpg.webp 160w,https://ichef.bbci.co.uk/images/ic/240xn/p0l69zg5.jpg.webp 240w,https://ichef.bbci.co.uk/images/ic/320xn/p0l69zg5.jpg.webp 320w,https://ichef.bbci.co.uk/images/ic/480xn/p0l69zg5.jpg.webp 480w,https://ichef.bbci.co.uk/images/ic/640xn/p0l69zg5.jpg.webp 640w,https://ichef.bbci.co.uk/images/ic/800xn/p0l69zg5.jpg.webp 800w,https://ichef.bbci.co.uk/images/ic/1024xn/p0l69zg5.jpg.webp 1024w,https://ichef.bbci.co.uk/images/ic/1376xn/p0l69zg5.jpg.webp 1376w,https://ichef.bbci.co.uk/images/ic/1920xn/p0l69zg5.jpg.webp 1920w\" src=\"https://ichef.bbci.co.uk/images/ic/480xn/p0l69zg5.jpg.webp\" loading=\"lazy\" alt=\"Getty Images Gravediggers worked around the clock at Jakarta's public cemetaries to cope with the bodies of Covid-19 victims at the end of 2020 (Credit: Getty Images)\" class=\"sc-4abb68ca-0 ldLcJe\"><span class=\"sc-4abb68ca-2 kkAKIJ\">Getty Images</span></div></div><div data-component=\"caption-block\" class=\"sc-3b6b161a-0 jvncPH\"><figcaption class=\"sc-1b6a1475-0 feHvAW\">Gravediggers worked around the clock at Jakarta's public cemetaries to cope with the bodies of Covid-19 victims at the end of 2020 (Credit: Getty Images)</figcaption></div></figure><div data-component=\"text-block\" class=\"sc-3b6b161a-0 dEGcKf\"><p class=\"sc-9a00e533-0 hxuGS\">Irwandi took a conscious decision to take the photo from the same height as the body: it is not the top-down view that a health worker or doctor would have when attending to the body. This positioning puts both the viewer and the subject at the same level.</p></div><div data-component=\"text-block\" class=\"sc-3b6b161a-0 dEGcKf\"><p class=\"sc-9a00e533-0 hxuGS\">\"When I was in that moment photographing somebody being wrapped in plastic. Could it be my family next? Could it be my friends next? The best you can do is inform your loved ones that this is happening, and take care of yourself,\" Irwandi says. \"I think that is the main message from the photo: if you don't put on your mask, or if you reject science, this is potentially how people could end up.\"</p></div><div data-testid=\"ad-unit\" data-component=\"ad-slot\" class=\"sc-cce5f0ff-0 Bitbe\"><div data-testid=\"dotcom-mid_4\" id=\"dotcom-mid_4\" class=\"dotcom-ad lazy\" data-ad-slot=\"{}\"></div></div><div data-component=\"text-block\" class=\"sc-3b6b161a-0 dEGcKf\"><p class=\"sc-9a00e533-0 hxuGS\">The image drew reaction far from Indonesia. It was given second prize in the general news category of the World Press Photo in 2021 and was also nominated for a Pulitzer Prize.</p></div><div data-component=\"quote-block\" class=\"sc-3b6b161a-0 dEGcKf\"><div class=\"sc-2b8ea91d-0 bgzaEJ\"><div class=\"sc-2b8ea91d-1 jTuoPb\"><svg viewBox=\"0 0 32 32\" width=\"1em\" height=\"1em\" category=\"personalisation\" icon=\"quote\" class=\"sc-9c8c5e05-0 kHfxfq\"><path d=\"M9.83967 17.2131C9.205 17.2131 8.62967 17.3124 8.07567 17.5058C8.63767 13.3384 10.9143 10.0091 14.7517 6.88708H10.0903C6.281 10.2704 4.00033 14.6318 4.00033 20.0451C4.00033 24.4311 6.35567 26.9371 9.78967 26.9371C13.0223 26.9371 14.9023 24.5564 14.9023 21.9751C14.9023 19.2184 12.7217 17.2131 9.83967 17.2131Z\"></path><path d=\"M22.2957 17.2131C21.6611 17.2131 21.0864 17.3124 20.5317 17.5058C21.0931 13.3384 23.3704 10.0091 27.2077 6.88708H22.5464C18.7371 10.2704 16.4811 14.6318 16.4811 20.0451C16.4811 24.4311 18.8117 26.9371 22.2457 26.9371C25.4784 26.9371 27.3584 24.5564 27.3584 21.9751C27.3584 19.2184 25.1777 17.2131 22.2957 17.2131Z\"></path></svg></div><span class=\"sc-2b8ea91d-2 dYxeIv\">It wasn't the first patient who died that I photographed, and it's not the last either – Joshua Irwandi</span></div></div><div data-component=\"text-block\" class=\"sc-3b6b161a-0 dEGcKf\"><p class=\"sc-9a00e533-0 hxuGS\">Amid the social media-fuelled furore around the image, people continued to contract the disease and die. By the end of the year, more than 800,000 cases had been confirmed in Indonesia and more than 20,000 people had died. </p></div><div data-component=\"text-block\" class=\"sc-3b6b161a-0 dEGcKf\"><p class=\"sc-9a00e533-0 hxuGS\"><b id=\"more-like-this:\" class=\"sc-d16436d-0 jpoiOL\">More like this:</b></p><p class=\"sc-9a00e533-0 hxuGS\">• <a target=\"_self\" href=\"https://www.bbc.com/future/article/20250304-the-countries-that-never-locked-down-for-covid-19\" class=\"sc-f9178328-0 bGFWdi\">Five years on: The countries that never locked down</a></p><p class=\"sc-9a00e533-0 hxuGS\">• <a target=\"_self\" href=\"https://www.bbc.co.uk/future/article/20250227-covid-19-when-empty-became-the-new-normal\" class=\"sc-f9178328-0 bGFWdi\">When empty became the new normal</a></p><p class=\"sc-9a00e533-0 hxuGS\">• <a target=\"_self\" href=\"https://www.bbc.co.uk/future/article/20250129-january-2020-the-scanners-used-to-stop-covids-deadly-spread\" class=\"sc-f9178328-0 bGFWdi\">The heat-showing shape of things to come</a></p></div><div data-component=\"text-block\" class=\"sc-3b6b161a-0 dEGcKf\"><p class=\"sc-9a00e533-0 hxuGS\">\"It wasn't the first patient who died that I photographed, and it's not the last either,\" says Irwandi. \"The following year, you know, Jakarta became <a target=\"_blank\" href=\"https://www.bmj.com/content/374/bmj.n1815\" class=\"sc-f9178328-0 bGFWdi\">the epicentre of Covid in Asia</a>. You could imagine, how many people were influenced by those who thought that Covid was not dangerous, or who thought that 'this is all a set-up, this is fake news', or whatever, and those people died anyway.</p></div><div data-testid=\"ad-unit\" data-component=\"ad-slot\" class=\"sc-cce5f0ff-0 Bitbe\"><div data-testid=\"dotcom-mid_5\" id=\"dotcom-mid_5\" class=\"dotcom-ad lazy\" data-ad-slot=\"{}\"></div></div><div data-component=\"text-block\" class=\"sc-3b6b161a-0 dEGcKf\"><p class=\"sc-9a00e533-0 hxuGS\">Irwandi said the photo had extra resonance for him when he covered mass burials of Covid victims in a graveyard a year later. He visited twice within a week, and fresh plots had already been dug for more victims. \"The danger is real, whether or not people like the photograph,\" he says.</p></div><div data-component=\"text-block\" class=\"sc-3b6b161a-0 dEGcKf\"><p class=\"sc-9a00e533-0 hxuGS\">-- </p></div><div data-component=\"text-block\" class=\"sc-3b6b161a-0 dEGcKf\"><p class=\"sc-9a00e533-0 hxuGS\"><i id=\"if-you-liked-this-story,\" class=\"sc-d16436d-0 fhKUCU\">If you liked this story, </i><a target=\"_self\" href=\"https://cloud.email.bbc.com/SignUp10_08?&amp;at_bbc_team=studios&amp;at_medium=Onsite&amp;at_objective=acquisition&amp;at_ptr_name=bbc.com&amp;at_link_origin=featuresarticle&amp;at_campaign=essentiallist&amp;at_campaign_type=owned&amp;&amp;&amp;&amp;&amp;\" class=\"sc-f9178328-0 bGFWdi\">sign up for The Essential List newsletter</a><i id=\"–-a-handpicked-selection-of-features,-videos-and-can't-miss-news,-delivered-to-your-inbox-twice-a-week.\" class=\"sc-d16436d-0 fhKUCU\"> – a handpicked selection of features, videos and can't-miss news, delivered to your inbox twice a week.</i></p><p class=\"sc-9a00e533-0 hxuGS\"><i id=\"for-more-science,-technology,-environment-and-health-stories-from-the-bbc,-follow-us-on\" class=\"sc-d16436d-0 fhKUCU\">For more science, technology, environment and health stories from the BBC, follow us on </i><a target=\"_blank\" href=\"https://www.facebook.com/BBCFuture/\" class=\"sc-f9178328-0 bGFWdi\">Facebook</a><i id=\",\" class=\"sc-d16436d-0 fhKUCU\">, </i><a target=\"_blank\" href=\"https://x.com/BBC_Future\" class=\"sc-f9178328-0 bGFWdi\">X</a><i id=\"and\" class=\"sc-d16436d-0 fhKUCU\"> and </i><a target=\"_blank\" href=\"https://www.instagram.com/bbcfuture_official/\" class=\"sc-f9178328-0 bGFWdi\">Instagram</a><i id=\".\" class=\"sc-d16436d-0 fhKUCU\"><b id=\".\" class=\"sc-d16436d-0 jpoiOL\">.</b></i><i id=\"\" class=\"sc-d16436d-0 fhKUCU\"> </i></p></div><div data-component=\"tags\" class=\"sc-3b6b161a-0 dHQIrb\"><div class=\"sc-6bf80075-0 kkfrXx\"><div data-testid=\"anchor-inner-wrapper\"><a href=\"/future/tags/health\" data-testid=\"internal-link\" class=\"sc-57521d02-0 emeJAW\">Health</a></div><div data-testid=\"anchor-inner-wrapper\"><a href=\"/future/tags/science\" data-testid=\"internal-link\" class=\"sc-57521d02-0 emeJAW\">Science</a></div><div data-testid=\"anchor-inner-wrapper\"><a href=\"/future/tags/disease\" data-testid=\"internal-link\" class=\"sc-57521d02-0 emeJAW\">Disease</a></div><div data-testid=\"anchor-inner-wrapper\"><a href=\"/future/tags/covid-19\" data-testid=\"internal-link\" class=\"sc-57521d02-0 emeJAW\">Covid-19</a></div><div data-testid=\"anchor-inner-wrapper\"><a href=\"/future/tags/history\" data-testid=\"internal-link\" class=\"sc-57521d02-0 emeJAW\">History</a></div><div data-testid=\"anchor-inner-wrapper\"><a href=\"/future/tags/photography\" data-testid=\"internal-link\" class=\"sc-57521d02-0 emeJAW\">Photography</a></div><div data-testid=\"anchor-inner-wrapper\"><a href=\"/future/tags/features\" data-testid=\"internal-link\" class=\"sc-57521d02-0 emeJAW\">Features</a></div></div></div></article>"
            ]
          },
          "metadata": {},
          "execution_count": 27
        }
      ]
    }
  ]
}